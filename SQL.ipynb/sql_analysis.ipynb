{
 "cells": [
  {
   "cell_type": "code",
   "execution_count": 1,
   "id": "cb409801-f1f7-4450-8cb5-7482ee37fc4d",
   "metadata": {},
   "outputs": [
    {
     "name": "stdout",
     "output_type": "stream",
     "text": [
      "Dataset loaded. Shape: (100, 16)\n",
      "Columns: ['Order ID', 'Order Date', 'Region', 'Category', 'Sub-Category', 'Product Name', 'Sales', 'Profit', 'Quantity', 'Discount', 'Customer Name', 'Segment', 'Ship Mode', 'Year', 'Month', 'Quarter']\n",
      "Table 'sales' created in SQLite memory database.\n",
      "\n",
      "--- Profit margin by category ---\n",
      "          Category  ProfitMargin\n",
      "0        Furniture      0.054224\n",
      "1  Office Supplies      0.035577\n",
      "2       Technology      0.074452\n",
      "\n",
      "--- Profit margin by region ---\n",
      "    Region  ProfitMargin\n",
      "0  Central      0.059973\n",
      "1     East      0.078688\n",
      "2    South      0.057713\n",
      "3     West      0.036685\n",
      "\n",
      "--- Top 5 profit-draining subcategories ---\n",
      "  Sub-Category  TotalProfit\n",
      "0      Binders       -89.47\n",
      "1       Labels        31.30\n",
      "2       Tables       106.72\n",
      "3  Accessories       154.13\n",
      "4      Storage       184.34\n",
      "\n",
      "--- Sales & profit by year ---\n",
      "   Year  TotalSales  TotalProfit\n",
      "0  2023    90472.07       5085.1\n",
      "\n",
      "--- Sales by customer segment ---\n",
      "       Segment  TotalSales  TotalProfit\n",
      "0     Consumer    38111.61      1724.82\n",
      "1    Corporate    28707.67      1735.29\n",
      "2  Home Office    23652.79      1624.99\n"
     ]
    }
   ],
   "source": [
    "import pandas as pd\n",
    "import sqlite3\n",
    "\n",
    "# 1. Load your cleaned dataset\n",
    "df = pd.read_csv(\"cleaned_superstore.csv\")   # file should be in the same folder as notebook\n",
    "print(\"Dataset loaded. Shape:\", df.shape)\n",
    "print(\"Columns:\", df.columns.tolist())\n",
    "\n",
    "# 2. Create in-memory SQLite DB\n",
    "conn = sqlite3.connect(\":memory:\")\n",
    "\n",
    "# 3. Load dataframe into SQL table\n",
    "df.to_sql(\"sales\", conn, index=False, if_exists=\"replace\")\n",
    "print(\"Table 'sales' created in SQLite memory database.\")\n",
    "\n",
    "# 4. Define queries\n",
    "queries = {\n",
    "    \"Profit margin by category\": \"\"\"\n",
    "        SELECT Category, SUM(Profit)*1.0 / SUM(Sales) AS ProfitMargin\n",
    "        FROM sales\n",
    "        GROUP BY Category;\n",
    "    \"\"\",\n",
    "    \"Profit margin by region\": \"\"\"\n",
    "        SELECT Region, SUM(Profit)*1.0 / SUM(Sales) AS ProfitMargin\n",
    "        FROM sales\n",
    "        GROUP BY Region;\n",
    "    \"\"\",\n",
    "    \"Top 5 profit-draining subcategories\": \"\"\"\n",
    "        SELECT \"Sub-Category\", SUM(Profit) AS TotalProfit\n",
    "        FROM sales\n",
    "        GROUP BY \"Sub-Category\"\n",
    "        ORDER BY TotalProfit ASC\n",
    "        LIMIT 5;\n",
    "    \"\"\",\n",
    "    \"Sales & profit by year\": \"\"\"\n",
    "        SELECT Year, SUM(Sales) AS TotalSales, SUM(Profit) AS TotalProfit\n",
    "        FROM sales\n",
    "        GROUP BY Year\n",
    "        ORDER BY Year;\n",
    "    \"\"\",\n",
    "    \"Sales by customer segment\": \"\"\"\n",
    "        SELECT Segment, SUM(Sales) AS TotalSales, SUM(Profit) AS TotalProfit\n",
    "        FROM sales\n",
    "        GROUP BY Segment;\n",
    "    \"\"\"\n",
    "}\n",
    "\n",
    "# 5. Run queries and display results\n",
    "for title, query in queries.items():\n",
    "    print(f\"\\n--- {title} ---\")\n",
    "    result = pd.read_sql(query, conn)\n",
    "    print(result)\n"
   ]
  },
  {
   "cell_type": "code",
   "execution_count": 2,
   "id": "78ac03ae-12ea-496a-8ed4-40106c9795fe",
   "metadata": {},
   "outputs": [
    {
     "data": {
      "text/html": [
       "<div>\n",
       "<style scoped>\n",
       "    .dataframe tbody tr th:only-of-type {\n",
       "        vertical-align: middle;\n",
       "    }\n",
       "\n",
       "    .dataframe tbody tr th {\n",
       "        vertical-align: top;\n",
       "    }\n",
       "\n",
       "    .dataframe thead th {\n",
       "        text-align: right;\n",
       "    }\n",
       "</style>\n",
       "<table border=\"1\" class=\"dataframe\">\n",
       "  <thead>\n",
       "    <tr style=\"text-align: right;\">\n",
       "      <th></th>\n",
       "      <th>Category</th>\n",
       "      <th>TotalSales</th>\n",
       "    </tr>\n",
       "  </thead>\n",
       "  <tbody>\n",
       "    <tr>\n",
       "      <th>0</th>\n",
       "      <td>Furniture</td>\n",
       "      <td>33080.66</td>\n",
       "    </tr>\n",
       "    <tr>\n",
       "      <th>1</th>\n",
       "      <td>Technology</td>\n",
       "      <td>32141.69</td>\n",
       "    </tr>\n",
       "    <tr>\n",
       "      <th>2</th>\n",
       "      <td>Office Supplies</td>\n",
       "      <td>25249.72</td>\n",
       "    </tr>\n",
       "  </tbody>\n",
       "</table>\n",
       "</div>"
      ],
      "text/plain": [
       "          Category  TotalSales\n",
       "0        Furniture    33080.66\n",
       "1       Technology    32141.69\n",
       "2  Office Supplies    25249.72"
      ]
     },
     "execution_count": 2,
     "metadata": {},
     "output_type": "execute_result"
    }
   ],
   "source": [
    "pd.read_sql(\"\"\"\n",
    "    SELECT Category, SUM(Sales) AS TotalSales\n",
    "    FROM sales\n",
    "    GROUP BY Category\n",
    "    ORDER BY TotalSales DESC;\n",
    "\"\"\", conn)\n"
   ]
  },
  {
   "cell_type": "code",
   "execution_count": 4,
   "id": "457f935a-41be-453e-ac8d-b088ed7ffee8",
   "metadata": {
    "scrolled": true
   },
   "outputs": [
    {
     "name": "stdout",
     "output_type": "stream",
     "text": [
      "✅ Saved: query_outputs\\profit_margin_by_category.csv\n",
      "✅ Saved: query_outputs\\profit_margin_by_region.csv\n",
      "✅ Saved: query_outputs\\top_5_profit_draining_subcategories.csv\n",
      "✅ Saved: query_outputs\\sales_and_profit_by_year.csv\n",
      "✅ Saved: query_outputs\\sales_by_customer_segment.csv\n"
     ]
    }
   ],
   "source": [
    "import os\n",
    "\n",
    "# Create a folder for outputs\n",
    "os.makedirs(\"query_outputs\", exist_ok=True)\n",
    "\n",
    "for title, query in queries.items():\n",
    "    result = pd.read_sql(query, conn)\n",
    "    \n",
    "    # Clean the title to make a valid filename\n",
    "    filename = title.replace(\" \", \"_\").replace(\"&\", \"and\").replace(\"-\", \"_\").lower() + \".csv\"\n",
    "    filepath = os.path.join(\"query_outputs\", filename)\n",
    "    \n",
    "    # Save result as CSV\n",
    "    result.to_csv(filepath, index=False)\n",
    "    print(f\"✅ Saved: {filepath}\")\n"
   ]
  },
  {
   "cell_type": "code",
   "execution_count": 9,
   "id": "10113be8-ec06-4862-b9ea-c9db3b9e2af3",
   "metadata": {},
   "outputs": [
    {
     "name": "stdout",
     "output_type": "stream",
     "text": [
      "✅ Saved all results into query_outputs/superstore_analysis.xlsx\n"
     ]
    },
    {
     "data": {
      "text/html": [
       "<a href='query_outputs/superstore_analysis.xlsx' target='_blank'>query_outputs/superstore_analysis.xlsx</a><br>"
      ],
      "text/plain": [
       "C:\\Users\\HP\\Music\\query_outputs\\superstore_analysis.xlsx"
      ]
     },
     "execution_count": 9,
     "metadata": {},
     "output_type": "execute_result"
    }
   ],
   "source": [
    "with pd.ExcelWriter(\"query_outputs/superstore_analysis.xlsx\") as writer:\n",
    "    for title, query in queries.items():\n",
    "        result = pd.read_sql(query, conn)\n",
    "        sheet_name = title[:30]  # Excel sheet names must be ≤ 31 chars\n",
    "        result.to_excel(writer, sheet_name=sheet_name, index=False)\n",
    "\n",
    "print(\"✅ Saved all results into query_outputs/superstore_analysis.xlsx\")\n",
    "from IPython.display import FileLink\n",
    "\n",
    "# This will show a clickable download link in your notebook\n",
    "FileLink(\"query_outputs/superstore_analysis.xlsx\")\n"
   ]
  },
  {
   "cell_type": "code",
   "execution_count": null,
   "id": "c326f8e4-611b-4d63-b5fb-387261f18b1e",
   "metadata": {},
   "outputs": [],
   "source": [
    "import matplotlib.pyplot as plt\n",
    "\n",
    "# Profit margin by category\n",
    "query = \"\"\"\n",
    "SELECT Category, SUM(Profit)*1.0 / SUM(Sales) AS ProfitMargin\n",
    "FROM sales\n",
    "GROUP BY Category;\n",
    "\"\"\"\n",
    "df_category = pd.read_sql(query, conn)\n",
    "\n",
    "plt.figure(figsize=(6,4))\n",
    "plt.bar(df_category[\"Category\"], df_category[\"ProfitMargin\"])\n",
    "plt.title(\"Profit Margin by Category\")\n",
    "plt.ylabel(\"Profit Margin\")\n",
    "plt.show()\n",
    "\n",
    "\n",
    "# Sales & Profit by Year\n",
    "query = \"\"\"\n",
    "SELECT Year, SUM(Sales) AS TotalSales, SUM(Profit) AS TotalProfit\n",
    "FROM sales\n",
    "GROUP BY Year\n",
    "ORDER BY Year;\n",
    "\"\"\"\n",
    "df_year = pd.read_sql(query, conn)\n",
    "\n",
    "plt.figure(figsize=(6,4))\n",
    "plt.plot(df_year[\"Year\"], df_year[\"TotalSales\"], marker=\"o\", label=\"Sales\")\n",
    "plt.plot(df_year[\"Year\"], df_year[\"TotalProfit\"], marker=\"o\", label=\"Profit\")\n",
    "plt.title(\"Sales & Profit by Year\")\n",
    "plt.xlabel(\"Year\")\n",
    "plt.ylabel(\"Amount\")\n",
    "plt.legend()\n",
    "plt.show()\n"
   ]
  },
  {
   "cell_type": "code",
   "execution_count": null,
   "id": "1356e8cb-dd77-4318-8d1d-eac946ac4f90",
   "metadata": {},
   "outputs": [],
   "source": []
  }
 ],
 "metadata": {
  "kernelspec": {
   "display_name": "Python 3 (ipykernel)",
   "language": "python",
   "name": "python3"
  },
  "language_info": {
   "codemirror_mode": {
    "name": "ipython",
    "version": 3
   },
   "file_extension": ".py",
   "mimetype": "text/x-python",
   "name": "python",
   "nbconvert_exporter": "python",
   "pygments_lexer": "ipython3",
   "version": "3.13.5"
  }
 },
 "nbformat": 4,
 "nbformat_minor": 5
}

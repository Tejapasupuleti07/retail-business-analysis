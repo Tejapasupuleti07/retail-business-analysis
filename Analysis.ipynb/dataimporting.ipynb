{
 "cells": [
  {
   "cell_type": "code",
   "execution_count": 1,
   "id": "81fc4892-48c9-4e5a-a5be-eb51fbf3f2e8",
   "metadata": {},
   "outputs": [
    {
     "name": "stdout",
     "output_type": "stream",
     "text": [
      "       Order ID  Order Date   Region         Category Sub-Category  \\\n",
      "0  CA-2023-1000  2023-03-12     East        Furniture       Chairs   \n",
      "1  CA-2023-1001  2023-05-10     West  Office Supplies        Paper   \n",
      "2  CA-2023-1002  2023-03-29     East  Office Supplies        Paper   \n",
      "3  CA-2023-1003  2023-04-28  Central       Technology      Copiers   \n",
      "4  CA-2023-1004  2023-06-19     East        Furniture       Chairs   \n",
      "\n",
      "   Product Name    Sales  Profit  Quantity  Discount Customer Name  \\\n",
      "0  Office Chair   504.89  -65.75         2       0.2         Grace   \n",
      "1      Paper A4  1212.00   97.71         9       0.1        Hannah   \n",
      "2   Paper Legal   570.19  -52.65         6       0.0         Grace   \n",
      "3  Canon Copier  1081.73  309.98         7       0.0         Frank   \n",
      "4  Office Chair   471.24  -26.06         2       0.0         Grace   \n",
      "\n",
      "       Segment       Ship Mode  \n",
      "0     Consumer    Second Class  \n",
      "1  Home Office  Standard Class  \n",
      "2     Consumer  Standard Class  \n",
      "3  Home Office     First Class  \n",
      "4    Corporate        Same Day  \n"
     ]
    }
   ],
   "source": [
    "import pandas as pd\n",
    "\n",
    "# Load dataset\n",
    "df = pd.read_csv(\"Superstore_Dataset.csv\")\n",
    "\n",
    "# Preview\n",
    "print(df.head())\n",
    "\n",
    "# Remove duplicates and missing values\n",
    "df = df.drop_duplicates().dropna()\n",
    "\n",
    "# Convert date column (e.g., Order Date) to datetime if present\n",
    "if 'Order Date' in df.columns:\n",
    "    df['Order Date'] = pd.to_datetime(df['Order Date'])\n",
    "    df['Year'] = df['Order Date'].dt.year\n",
    "    df['Month'] = df['Order Date'].dt.month\n",
    "    df['Quarter'] = df['Order Date'].dt.quarter\n",
    "\n",
    "# Save cleaned version\n",
    "df.to_csv(\"cleaned_superstore.csv\", index=False)\n"
   ]
  },
  {
   "cell_type": "code",
   "execution_count": 2,
   "id": "aea38f57-cb0e-4561-b695-4d2737742c72",
   "metadata": {},
   "outputs": [],
   "source": [
    "df.to_csv(\"cleaned_superstore.csv\", index=False)"
   ]
  },
  {
   "cell_type": "code",
   "execution_count": null,
   "id": "9f83cb95-1f80-4051-972f-cec14c782f97",
   "metadata": {},
   "outputs": [],
   "source": []
  }
 ],
 "metadata": {
  "kernelspec": {
   "display_name": "Python 3 (ipykernel)",
   "language": "python",
   "name": "python3"
  },
  "language_info": {
   "codemirror_mode": {
    "name": "ipython",
    "version": 3
   },
   "file_extension": ".py",
   "mimetype": "text/x-python",
   "name": "python",
   "nbconvert_exporter": "python",
   "pygments_lexer": "ipython3",
   "version": "3.13.5"
  }
 },
 "nbformat": 4,
 "nbformat_minor": 5
}
